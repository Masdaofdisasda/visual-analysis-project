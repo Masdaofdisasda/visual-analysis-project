{
 "cells": [
  {
   "metadata": {},
   "cell_type": "code",
   "source": "import os",
   "id": "f0290585520790dc",
   "outputs": [],
   "execution_count": null
  },
  {
   "metadata": {},
   "cell_type": "markdown",
   "source": [
    "# 1. Extract Keypoints\n",
    "load video data and extract keypoints using mediapose into /data/pose_data.csv"
   ],
   "id": "a1ce40789f51fea3"
  },
  {
   "metadata": {},
   "cell_type": "code",
   "source": [
    "from src import extract_keypoints as extract\n",
    "\n",
    "# Process all MP4s from a folder and extract labeled keypoints\n",
    "video_dir = os.path.join(\"..\", \"data\", \"raw\")\n",
    "df = extract.process_directory(video_dir)\n",
    "\n",
    "# Save result for training\n",
    "csv_path = os.path.join(\"..\", \"data\", \"pose_data.csv\")\n",
    "extract.save_dataframe(df, csv_path)\n"
   ],
   "id": "d5322ee08d0a8a57",
   "outputs": [],
   "execution_count": null
  },
  {
   "metadata": {},
   "cell_type": "markdown",
   "source": [
    "# 2. Train Model\n",
    "create classifier for the keypoints and save the model in models/tf_model"
   ],
   "id": "b802df86e29a3027"
  },
  {
   "metadata": {},
   "cell_type": "code",
   "source": [
    "from src import train_pose_model as train\n",
    "from sklearn.model_selection import train_test_split\n",
    "\n",
    "model_dir = os.path.join(\"..\", \"models\", \"tf_model\")\n",
    "label_map_path = os.path.join(\"..\", \"models\", \"label_map.json\")\n",
    "\n",
    "# Load data\n",
    "X, y = train.load_pose_data(csv_path)\n",
    "y_encoded, label_encoder = train.encode_labels(y)\n",
    "\n",
    "# Split\n",
    "X_train, X_test, y_train, y_test = train_test_split(X, y_encoded, test_size=0.2, random_state=42)\n",
    "\n",
    "# Build and train model\n",
    "model = train.build_model(input_dim=X.shape[1], num_classes=len(label_encoder.classes_))\n",
    "model.summary()\n",
    "model.fit(X_train, y_train, validation_data=(X_test, y_test), epochs=15, batch_size=32)\n",
    "\n",
    "# Evaluate\n",
    "loss, accuracy = model.evaluate(X_test, y_test)\n",
    "print(f\"✅ Test loss: {loss:.4f}, Test accuracy: {accuracy:.4f}\")\n",
    "\n",
    "# Save model and labels\n",
    "train.save_model(model, model_dir)\n",
    "train.save_label_map(label_encoder, label_map_path)"
   ],
   "id": "9693813d956f5675",
   "outputs": [],
   "execution_count": null
  }
 ],
 "metadata": {
  "kernelspec": {
   "display_name": "Python 3",
   "language": "python",
   "name": "python3"
  },
  "language_info": {
   "codemirror_mode": {
    "name": "ipython",
    "version": 2
   },
   "file_extension": ".py",
   "mimetype": "text/x-python",
   "name": "python",
   "nbconvert_exporter": "python",
   "pygments_lexer": "ipython2",
   "version": "2.7.6"
  }
 },
 "nbformat": 4,
 "nbformat_minor": 5
}
